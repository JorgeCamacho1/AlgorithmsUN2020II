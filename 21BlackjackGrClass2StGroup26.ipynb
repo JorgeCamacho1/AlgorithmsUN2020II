{
  "nbformat": 4,
  "nbformat_minor": 0,
  "metadata": {
    "colab": {
      "name": "21BlackjackGrClass2StGroup26.ipynb",
      "provenance": [],
      "collapsed_sections": []
    },
    "kernelspec": {
      "name": "python3",
      "display_name": "Python 3"
    }
  },
  "cells": [
    {
      "cell_type": "markdown",
      "metadata": {
        "id": "s_DRi9o4KkZ6"
      },
      "source": [
        "# 1 \n",
        "Estimate the probability of getting a 21, the average number of cards required to complete 21 and plot the experimental distribution of the number of card required to complete 21 drawing cards sequentially from a shuffled Spanish 48-card deck with card values \n",
        "\n",
        "[1,2,3,4,5,6,7,8,9,10,11,12,1,2,3,4,5,6,7,8,9,10,11,12,1,2,3,4,5,6,7,8,9,10,11,12,1,2,3,4,5,6,7,8,9,10,11,12] \n",
        "\n",
        "and from a shuffled Poker 52-card with card values \n",
        "\n",
        "[1,2,3,4,5,6,7,8,9,10,11,12,13,1,2,3,4,5,6,7,8,9,10,11,12,13,1,2,3,4,5,6,7,8,9,10,11,12,13,1,2,3,4,5,6,7,8,9,10,11,12,13] \n",
        "\n",
        "using Montecarlo with 10 millions simulations.\n",
        "\n",
        "* A n-card deck is shuffled if t all possible n! decks have equal probability 1/n! or equivalently if when choosing any card of the shuffled deck all n cards have the same probability 1/n of appearing.\n",
        "* Hint: Instead of shuffling the card deck an drawing sequentially it is equivalent to have a sorted list representing the cards and draw cards randomly located from that list with random.choice(list)."
      ]
    },
    {
      "cell_type": "code",
      "metadata": {
        "id": "UsZQ5c5Mzm3I"
      },
      "source": [
        "import random as r\n",
        "import matplotlib.pyplot as plt\n",
        "#We define a function sum21,that chooses randomly the cards from a deck until get 21 or more\n",
        "# variable deck is a list of cards, countCards is a list in where we add 1 in the position i if we get a 21 with i cards\n",
        "# sum is the value of the cards that have the player initially. (for example if the player has the cards 7,7,5, this value is 19; and if starts with no cards then is 0)\n",
        "def sum21(deck,countCards,sum):\n",
        "  auxDeck = deck[:]\n",
        "  aux = 0\n",
        "  count = 0\n",
        "  while (sum < 21 ):\n",
        "    aux=r.choice(auxDeck)\n",
        "    sum=sum+aux\n",
        "    auxDeck.remove(aux)\n",
        "    count += 1\n",
        "  \n",
        "  if sum == 21:\n",
        "    countCards[count] += 1\n",
        "    return 1\n",
        "  else:\n",
        "    return 0"
      ],
      "execution_count": null,
      "outputs": []
    },
    {
      "cell_type": "code",
      "metadata": {
        "id": "AOLRgb3sLn00",
        "outputId": "4bf73fe6-7ea1-4bda-8e5b-b55650b217a5",
        "colab": {
          "base_uri": "https://localhost:8080/",
          "height": 689
        }
      },
      "source": [
        "n=10000000\n",
        "countSpanish = 0 #counts if the player get 21\n",
        "countPoker = 0 #counts if the player get 21\n",
        "countCardsSpanish = [0,0,0,0,0,0,0,0,0,0,0,0] #counts the number of cards used to get 21\n",
        "countCardsPoker = [0,0,0,0,0,0,0,0,0,0,0,0] #counts the number of cards used to get 21\n",
        "spanishDeck = [1,2,3,4,5,6,7,8,9,10,11,12,1,2,3,4,5,6,7,8,9,10,11,12,1,2,3,4,5,6,7,8,9,10,11,12,1,2,3,4,5,6,7,8,9,10,11,12]\n",
        "pokerDeck = [1,2,3,4,5,6,7,8,9,10,11,12,13,1,2,3,4,5,6,7,8,9,10,11,12,13,1,2,3,4,5,6,7,8,9,10,11,12,13,1,2,3,4,5,6,7,8,9,10,11,12,13]\n",
        "\n",
        "for i in range(1,n+1):\n",
        "  countSpanish += sum21(spanishDeck,countCardsSpanish,0)\n",
        "  countPoker += sum21(pokerDeck,countCardsPoker,0)\n",
        "probSpanish = countSpanish / n\n",
        "probPoker = countPoker / n\n",
        "\n",
        "print(\"The experimental probability of getting a 21 drawing cards sequentially from shuffled Spanish 48-deck is \"+ str(probSpanish)+\".\")\n",
        "fig1 = plt.figure()\n",
        "ax1 = fig1.add_axes([0,0,1,1])\n",
        "ax1.bar(range(0,12),countCardsSpanish)\n",
        "plt.show()\n",
        "print(\"The experimental probability of getting a 21 drawing cards sequentially from shuffled Poker 52-deck is \"+ str(probPoker)+\".\")\n",
        "fig2 = plt.figure()\n",
        "ax2 = fig2.add_axes([0,0,1,1])\n",
        "ax2.bar(range(0,12),countCardsPoker)\n",
        "plt.show()"
      ],
      "execution_count": null,
      "outputs": [
        {
          "output_type": "stream",
          "text": [
            "The experimental probability of getting a 21 drawing cards sequentially from shuffled Spanish 48-deck is 0.1576896.\n"
          ],
          "name": "stdout"
        },
        {
          "output_type": "display_data",
          "data": {
            "image/png": "[encoded data removed]",
            "text/plain": [
              "<Figure size 432x288 with 1 Axes>"
            ]
          },
          "metadata": {
            "tags": [],
            "needs_background": "light"
          }
        },
        {
          "output_type": "stream",
          "text": [
            "The experimental probability of getting a 21 drawing cards sequentially from shuffled Poker 52-deck is 0.1448326.\n"
          ],
          "name": "stdout"
        },
        {
          "output_type": "display_data",
          "data": {
            "image/png": "[encoded data removed]",
            "text/plain": [
              "<Figure size 432x288 with 1 Axes>"
            ]
          },
          "metadata": {
            "tags": [],
            "needs_background": "light"
          }
        }
      ]
    },
    {
      "cell_type": "markdown",
      "metadata": {
        "id": "K5uSbv42KbgZ"
      },
      "source": [
        "\n",
        "\n",
        "---\n",
        "\n",
        "\n",
        "# **2**\n",
        "Estimate the probability of getting a 21, the average number of cards required to complete 21 and plot the experimental distribution of the number of card required to complete 21 drawing cards sequentially from a shuffled Spanish 48-card deck with card values \n",
        "\n",
        "[1,2,3,4,5,6,7,10,10,10,1,2,3,4,5,6,7,8,9,10,10,10,1,2,3,4,5,6,7,8,9,10,10,10,1,2,3,4,5,6,7,8,9,10,10,10] \n",
        "\n",
        "and from a shuffled Poker 52-card deck with card values \n",
        "\n",
        "[1,2,3,4,5,6,7,8,9,10,10,10,10,1,2,3,4,5,6,7,8,9,10,10,10,10,1,2,3,4,5,6,7,8,9,10,10,10,10,1,2,3,4,5,6,7,8,9,10,10,10,10] \n",
        "\n",
        "using Montecarlo with 10 millions simulations."
      ]
    },
    {
      "cell_type": "code",
      "metadata": {
        "id": "s5nTy3c1MT_B",
        "outputId": "8288e9d8-7fe7-4fcf-d640-85137b9f47f5",
        "colab": {
          "base_uri": "https://localhost:8080/",
          "height": 689
        }
      },
      "source": [
        "n=1000000\n",
        "countSpanish = 0 #counts if the player get 21\n",
        "countPoker = 0 #counts if the player get 21\n",
        "countCardsSpanish = [0,0,0,0,0,0,0,0,0,0,0,0] #counts the number of cards used to get 21\n",
        "countCardsPoker = [0,0,0,0,0,0,0,0,0,0,0,0] #counts the number of cards used to get 21\n",
        "spanishDeck = [1,2,3,4,5,6,7,8,9,10,10,10,1,2,3,4,5,6,7,8,9,10,10,10,1,2,3,4,5,6,7,8,9,10,10,10,1,2,3,4,5,6,7,8,9,10,10,10]\n",
        "pokerDeck = [1,2,3,4,5,6,7,8,9,10,10,10,10,1,2,3,4,5,6,7,8,9,10,10,10,10,1,2,3,4,5,6,7,8,9,10,10,10,10,1,2,3,4,5,6,7,8,9,10,10,10,10]\n",
        "\n",
        "for i in range(1,n+1):\n",
        "  countSpanish += sum21(spanishDeck,countCardsSpanish,0)\n",
        "  countPoker += sum21(pokerDeck,countCardsPoker,0)\n",
        "  \n",
        "probSpanish = countSpanish / n\n",
        "probPoker = countPoker / n\n",
        "\n",
        "probColdDeckSpanish=probSpanish #we save it for the point 5\n",
        "probColdDeckPoker=probPoker #we save it for the point 5\n",
        "\n",
        "print(\"The experimental probability of getting a 21 drawing cards sequentially from shuffled Spanish 48-deck is \"+ str(probSpanish)+\".\")\n",
        "fig1 = plt.figure()\n",
        "ax1 = fig1.add_axes([0,0,1,1])\n",
        "ax1.bar(range(0,12),countCardsSpanish)\n",
        "plt.show()\n",
        "print(\"The experimental probability of getting a 21 drawing cards sequentially from shuffled Poker 52-deck is \"+ str(probPoker)+\".\")\n",
        "fig2 = plt.figure()\n",
        "ax2 = fig2.add_axes([0,0,1,1])\n",
        "ax2.bar(range(0,12),countCardsPoker)\n",
        "plt.show()"
      ],
      "execution_count": null,
      "outputs": [
        {
          "output_type": "stream",
          "text": [
            "The experimental probability of getting a 21 drawing cards sequentially from shuffled Spanish 48-deck is 0.149552.\n"
          ],
          "name": "stdout"
        },
        {
          "output_type": "display_data",
          "data": {
            "image/png": "[encoded data removed]",
            "text/plain": [
              "<Figure size 432x288 with 1 Axes>"
            ]
          },
          "metadata": {
            "tags": [],
            "needs_background": "light"
          }
        },
        {
          "output_type": "stream",
          "text": [
            "The experimental probability of getting a 21 drawing cards sequentially from shuffled Poker 52-deck is 0.140028.\n"
          ],
          "name": "stdout"
        },
        {
          "output_type": "display_data",
          "data": {
            "image/png": "[encoded data removed]",
            "text/plain": [
              "<Figure size 432x288 with 1 Axes>"
            ]
          },
          "metadata": {
            "tags": [],
            "needs_background": "light"
          }
        }
      ]
    },
    {
      "cell_type": "markdown",
      "metadata": {
        "id": "DXH44Xe8M8yI"
      },
      "source": [
        "\n",
        "\n",
        "---\n",
        "\n",
        "\n",
        "# **3**\n",
        "\n",
        "Estimate the probability of getting a 21, the average total number of cards required to complete 21 (including the three that you start with) and plot the experimental distribution of the number of card required to complete 21 with drawing cards sequentially from a shuffled Spanish 48-card deck with 3 10’s and a shuffled Poker 52-card deck with 4 10’s, assuming that you have in your hand the cards [7,7,5]ae and the remaining deck has n/2 cards. You can pick the n/2 cards in the remaining deck in whatever way you choose but with restriction that this has maximum two 7s and three 5, you have to keep the remaining deck fixed through the simulations, use Montecarlo with 10 millions simulations."
      ]
    },
    {
      "cell_type": "code",
      "metadata": {
        "id": "0_00cWPROOaC",
        "outputId": "5b87a204-41bd-40c4-e841-84c949dbc3fc",
        "colab": {
          "base_uri": "https://localhost:8080/",
          "height": 759
        }
      },
      "source": [
        "#chooseHalfDeck choose randomly a deck of halfsize\n",
        "def chooseHalfDeck(deck):\n",
        "  aux=deck[:]\n",
        "  for i in range(1,int((len(deck)-1)/2)):\n",
        "    aux.remove(r.choice(aux))\n",
        "  return aux\n",
        "n=10000000\n",
        "spanishDeck3 =[1,2,3,4,6,8,9,10,10,10,1,2,3,4,5,6,8,9,10,10,10,1,2,3,4,5,6,7,8,9,10,10,10,1,2,3,4,5,6,7,8,9,10,10,10]\n",
        "pokerDeck3 = [1,2,3,4,6,8,9,10,10,10,10,1,2,3,4,5,6,8,9,10,10,10,10,1,2,3,4,5,6,7,8,9,10,10,10,10,1,2,3,4,5,6,7,8,9,10,10,10,10]\n",
        "countSpanish = 0 #counts the number of times we got 21 with the Spanish deck\n",
        "countPoker = 0 #counts the number of times we got 21 with the Poker deck\n",
        "countCardsSpanish = [0,0,0,0,0,0,0,0,0,0,0,0] #counts the number of cards used to get 21\n",
        "countCardsPoker = [0,0,0,0,0,0,0,0,0,0,0,0] #counts the number of cards used to get 21\n",
        "\n",
        "\n",
        "spanishHalfDeck=chooseHalfDeck(spanishDeck3) #choose Half Deck from the spanishDeck3 (not included 5,7,7)\n",
        "pokerHalfDeck=chooseHalfDeck(pokerDeck3) ##choose Half Deck from the pokerDeck3 (not included 5,7,7)\n",
        "onesSpanish=spanishHalfDeck.count(1)\n",
        "twosSpanish=spanishHalfDeck.count(2)\n",
        "onesPoker=pokerHalfDeck.count(1)\n",
        "twosPoker=pokerHalfDeck.count(2)\n",
        "theoricProbSpanish= onesSpanish*(onesSpanish-1)/(24*23) + twosSpanish/24\n",
        "theoricProbPoker= onesPoker*(onesPoker-1)/(26*25) + twosPoker/26\n",
        "\n",
        "for i in range(1,n+1):\n",
        "  countSpanish += sum21(spanishHalfDeck,countCardsSpanish,19) #7+7+5=19\n",
        "  countPoker += sum21(pokerHalfDeck,countCardsPoker,19)\n",
        "probSpanish = countSpanish / n\n",
        "probPoker = countPoker / n\n",
        "\n",
        "print(\"The Half Spanish Deck is: \",spanishHalfDeck, len(spanishHalfDeck))\n",
        "print(\"The theoretical probability is \",theoricProbSpanish)\n",
        "print(\"The experimental probability of getting a 21 with the above conditions from Spanish deck is \"+ str(probSpanish)+\".\")\n",
        "fig1 = plt.figure()\n",
        "ax1 = fig1.add_axes([0,0,1,1])\n",
        "ax1.bar(range(0,12),countCardsSpanish)\n",
        "plt.show()\n",
        "print(\"The Half Poker Deck is: \",pokerHalfDeck, len(pokerHalfDeck))\n",
        "print(\"The theoretical probability is \",theoricProbPoker)\n",
        "print(\"The experimental probability of getting a 21 with the above conditions from Poker deck is \"+ str(probPoker)+\".\")\n",
        "fig2 = plt.figure()\n",
        "ax2 = fig2.add_axes([0,0,1,1])\n",
        "ax2.bar(range(0,12),countCardsPoker)\n",
        "plt.show()"
      ],
      "execution_count": null,
      "outputs": [
        {
          "output_type": "stream",
          "text": [
            "The Half Spanish Deck is:  [3, 4, 9, 10, 1, 2, 3, 4, 7, 8, 9, 10, 10, 10, 1, 2, 3, 4, 7, 8, 9, 10, 10, 10] 24\n",
            "The theoretical probability is  0.08695652173913043\n",
            "The experimental probability of getting a 21 with the above conditions from Spanish deck is 0.0869449.\n"
          ],
          "name": "stdout"
        },
        {
          "output_type": "display_data",
          "data": {
            "image/png": "[encoded data removed]",
            "text/plain": [
              "<Figure size 432x288 with 1 Axes>"
            ]
          },
          "metadata": {
            "tags": [],
            "needs_background": "light"
          }
        },
        {
          "output_type": "stream",
          "text": [
            "The Half Poker Deck is:  [1, 3, 9, 1, 3, 4, 5, 7, 9, 10, 10, 10, 10, 1, 2, 3, 4, 5, 6, 7, 8, 9, 10, 10, 10, 10] 26\n",
            "The theoretical probability is  0.047692307692307694\n",
            "The experimental probability of getting a 21 with the above conditions from Poker deck is 0.0476104.\n"
          ],
          "name": "stdout"
        },
        {
          "output_type": "display_data",
          "data": {
            "image/png": "[encoded data removed]",
            "text/plain": [
              "<Figure size 432x288 with 1 Axes>"
            ]
          },
          "metadata": {
            "tags": [],
            "needs_background": "light"
          }
        }
      ]
    },
    {
      "cell_type": "markdown",
      "metadata": {
        "id": "Pi6cj8pHde47"
      },
      "source": [
        "\n",
        "\n",
        "---\n",
        "\n",
        "\n",
        "# **4**\n",
        "Find two remaining decks with 10 cards for Alg Gr 2 11-1; for a Spanish 48-card deck with 3 10’s and for a Poker 52-card deck with 4 10’s; one remaining has the highest probability of getting 21 (hot deck) and the other remaining s that has the lowest probability of getting 21(cold deck), assuming that you have in your hand the cards [7,7,5]. Calculate analytically the probabilities of getting a 21 for both the hot an cold deck, estimate this probabilities of getting a 21, the average total number of cards required to complete 21 (including the three that you start with) and plot the experimental distribution of the total number of card required to complete 21 (including the three that you start with) using Montecarlo with 10 millions simulations."
      ]
    },
    {
      "cell_type": "markdown",
      "metadata": {
        "id": "X9lXwbc8EdAP"
      },
      "source": [
        "## Solution \n",
        "We took the following Decks\n",
        "\n",
        "* spanishHotDeck =[1,2,3,1,2,3,1,2,1,2]\n",
        "* spanishColdDeck = [10,10,10,10,10,10,10,10,10,10]\n",
        "* pokerHotDeck =[1,2,3,1,2,3,1,2,1,2]\n",
        "* pokerColdDeck =[10,10,10,10,10,10,10,10,10,10]\n",
        "\n",
        "We have two cases to obtain 21 if we have [7,7,5]: with two ones or only a two.\n",
        "The first case give us a probability of $\\frac{4}{10} * \\frac{3}{9} = \\frac{2}{15}$. The second one give us a probability of $\\frac{4}{10}=\\frac{2}{5}$. Thus the probability to obtain 21 with a hot deck is $\\frac{2}{5} + \\frac{2}{15} = \\frac{8}{15} \\approx 0.533$\n",
        "\n",
        "With respect to cold Decks, clearly we cannot obtain 21, then the probability is 0."
      ]
    },
    {
      "cell_type": "code",
      "metadata": {
        "id": "UXtMfu_cAmAR",
        "outputId": "c53b0c57-1c01-4025-e946-a2084e528705",
        "colab": {
          "base_uri": "https://localhost:8080/",
          "height": 1000
        }
      },
      "source": [
        "n=10000000\n",
        "spanishHotDeck =[1,2,3,1,2,3,1,2,1,2]\n",
        "spanishColdDeck = [10,10,10,10,10,10,10,10,10,10]\n",
        "pokerHotDeck =[1,2,3,1,2,3,1,2,1,2]\n",
        "pokerColdDeck = [10,10,10,10,10,10,10,10,10,10]\n",
        "\n",
        "countSpanishHot = 0 #counts the number of times we got 21 with the Spanish deck\n",
        "countPokerHot = 0 #counts the number of times we got 21 with the Poker deck\n",
        "countSpanishCold = 0 #counts the number of times we got 21 with the Spanish deck\n",
        "countPokerCold = 0 #counts the number of times we got 21 with the Poker deck\n",
        "\n",
        "countCardsSpanishHot = [0,0,0,0,0,0,0,0,0,0,0,0]\n",
        "countCardsPokerHot = [0,0,0,0,0,0,0,0,0,0,0,0]\n",
        "\n",
        "countCardsSpanishCold = [0,0,0,0,0,0,0,0,0,0,0,0]\n",
        "countCardsPokerCold = [0,0,0,0,0,0,0,0,0,0,0,0]\n",
        "for i in range(1,n+1):\n",
        "  countSpanishHot += sum21(spanishHotDeck,countCardsSpanishHot,19) #7+7+5=19\n",
        "  countSpanishCold += sum21(spanishColdDeck,countCardsSpanishCold,19) #7+7+5=19\n",
        "  countPokerHot += sum21(pokerHotDeck,countCardsPokerHot,19)\n",
        "  countPokerCold += sum21(pokerColdDeck,countCardsPokerCold,19)\n",
        "probSpanishHot = countSpanishHot / n\n",
        "probSpanishCold = countSpanishCold / n\n",
        "probPokerHot = countPokerHot / n\n",
        "probPokerCold = countPokerCold / n\n",
        "\n",
        "probHotDeckSpanish=probSpanishHot #we save it for point 5\n",
        "probHotDeckPoker=probSpanishHot #we save it for point 5\n",
        "\n",
        "print(\"The experimental probability of getting a 21 with the above conditions from Hot Spanish deck is \"+ str(probSpanishHot)+\".\")\n",
        "fig1 = plt.figure()\n",
        "ax1 = fig1.add_axes([0,0,1,1])\n",
        "ax1.bar(range(0,12),countCardsSpanishHot)\n",
        "plt.show()\n",
        "print(\"The experimental probability of getting a 21 with the above conditions from Cold Spanish deck is \"+ str(probSpanishCold)+\".\")\n",
        "fig1 = plt.figure()\n",
        "ax1 = fig1.add_axes([0,0,1,1])\n",
        "ax1.bar(range(0,12),countCardsSpanishCold)\n",
        "plt.show()\n",
        "print(\"The experimental probability of getting a 21 with the above conditions from Hot Poker deck is \"+ str(probPokerHot)+\".\")\n",
        "fig2 = plt.figure()\n",
        "ax2 = fig2.add_axes([0,0,1,1])\n",
        "ax2.bar(range(0,12),countCardsPokerHot)\n",
        "plt.show()\n",
        "print(\"The experimental probability of getting a 21 with the above conditions from Cold Poker deck is \"+ str(probPokerCold)+\".\")\n",
        "fig2 = plt.figure()\n",
        "ax2 = fig2.add_axes([0,0,1,1])\n",
        "ax2.bar(range(0,12),countCardsPokerCold)\n",
        "plt.show()"
      ],
      "execution_count": null,
      "outputs": [
        {
          "output_type": "stream",
          "text": [
            "The experimental probability of getting a 21 with the above conditions from Hot Spanish deck is 0.5332075.\n"
          ],
          "name": "stdout"
        },
        {
          "output_type": "display_data",
          "data": {
            "image/png": "[encoded data removed]",
            "text/plain": [
              "<Figure size 432x288 with 1 Axes>"
            ]
          },
          "metadata": {
            "tags": [],
            "needs_background": "light"
          }
        },
        {
          "output_type": "stream",
          "text": [
            "The experimental probability of getting a 21 with the above conditions from Cold Spanish deck is 0.0.\n"
          ],
          "name": "stdout"
        },
        {
          "output_type": "display_data",
          "data": {
            "image/png": "[encoded data removed]",
            "text/plain": [
              "<Figure size 432x288 with 1 Axes>"
            ]
          },
          "metadata": {
            "tags": [],
            "needs_background": "light"
          }
        },
        {
          "output_type": "stream",
          "text": [
            "The experimental probability of getting a 21 with the above conditions from Hot Poker deck is 0.5335045.\n"
          ],
          "name": "stdout"
        },
        {
          "output_type": "display_data",
          "data": {
            "image/png": "[encoded data removed]",
            "text/plain": [
              "<Figure size 432x288 with 1 Axes>"
            ]
          },
          "metadata": {
            "tags": [],
            "needs_background": "light"
          }
        },
        {
          "output_type": "stream",
          "text": [
            "The experimental probability of getting a 21 with the above conditions from Cold Poker deck is 0.0.\n"
          ],
          "name": "stdout"
        },
        {
          "output_type": "display_data",
          "data": {
            "image/png": "[encoded data removed]",
            "text/plain": [
              "<Figure size 432x288 with 1 Axes>"
            ]
          },
          "metadata": {
            "tags": [],
            "needs_background": "light"
          }
        }
      ]
    },
    {
      "cell_type": "markdown",
      "metadata": {
        "id": "gmzfoA9vfc9L"
      },
      "source": [
        "\n",
        "\n",
        "---\n",
        "\n",
        "# **5**\n",
        "\n",
        "Estimate the average amount of money (expected value) that Ben wins or losses on a weekend if Ben goes to Vegas every weekend (Friday, Saturday and Sunday), plays every weekend day 10 hours, each game takes 3 mins. Assume that for each game he gets two possibilities, in one he gets in his hand the cards [7,7,5] and a remaining hot deck cards with 12 cards for Alg Gr 1 9-11 and with 10 cards for Alg Gr 2 11-1 which case he bets \\$1000 this happens with probability 1/10; in the other one he gets no cards in his hand a complete shuffled deck in which case he bets \\$10, this happens with the remaining probability 9/10. Use 10000 Montecarlo simulations to estimated the expected amount of money that Ben wins or losses on a weekend for a Spanish 48-card deck with 3 10’s and for a Poker 52-card deck with 4 10’s."
      ]
    },
    {
      "cell_type": "markdown",
      "metadata": {
        "id": "G-9_mg_5QT3v"
      },
      "source": [
        "##Solution\n",
        "The next cell show us the solution of the question, but takes too much to run, because we have to simulate n times a weekend, for 600 games, each of one we simulate n times. It means the computer is doing 60000000000 calculations for n=10000."
      ]
    },
    {
      "cell_type": "code",
      "metadata": {
        "id": "GqmDaWu7kSJa",
        "outputId": "19701bd4-544c-4b9b-9f4e-70715cd1c09a",
        "colab": {
          "base_uri": "https://localhost:8080/",
          "height": 774
        }
      },
      "source": [
        "n=10000 #number of simulations per weekend\n",
        "m=600 #number of games per weekend\n",
        "q=1 #control the number of simulations per game\n",
        "\n",
        "betHot=1000\n",
        "betCold=10\n",
        "hotProbability=0.1 #Change to 0.1 probabilitty\n",
        "\n",
        "spanishHotDeck =([1,2,3,1,2,3,1,2,1,2],19,betHot,probHotDeckSpanish)\n",
        "spanishColdDeck = ([1,2,3,4,5,6,7,8,9,10,10,10,1,2,3,4,5,6,7,8,9,10,10,10,1,2,3,4,5,6,7,8,9,10,10,10,1,2,3,4,5,6,7,8,9,10,10,10],0,betCold,probColdDeckSpanish)\n",
        "pokerHotDeck =([1,2,3,1,2,3,1,2,1,2],19,betHot,probHotDeckPoker)\n",
        "pokerColdDeck =([1,2,3,4,5,6,7,8,9,10,10,10,10,1,2,3,4,5,6,7,8,9,10,10,10,10,1,2,3,4,5,6,7,8,9,10,10,10,10,1,2,3,4,5,6,7,8,9,10,10,10,10],0,betCold,probColdDeckPoker)\n",
        "\n",
        "spanishDecks=[spanishHotDeck, spanishColdDeck]\n",
        "pokerDecks=[pokerHotDeck, pokerColdDeck]\n",
        "\n",
        "#fix randomly m games, \n",
        "gamesSpanish=[]\n",
        "gamesPoker=[]\n",
        "gamesSpanishProfit=[]\n",
        "gamesPokerProfit=[]\n",
        "for i in range(0,m):\n",
        "  gamesSpanish.append(r.choices(spanishDecks,weights=(hotProbability,1-hotProbability),k=1)[0])\n",
        "  gamesPoker.append(r.choices(pokerDecks,weights=(hotProbability,1-hotProbability),k=1)[0])\n",
        "  gamesSpanishProfit.append(0)\n",
        "  gamesPokerProfit.append(0)\n",
        "gamesSpanishProfitReset=gamesSpanishProfit[:]\n",
        "gamesPokerProfitReset=gamesPokerProfit[:]\n",
        "\n",
        "print(\"Number of hot decks (spanish, poker):\",gamesSpanish.count(spanishHotDeck), gamesPoker.count(pokerHotDeck))\n",
        "\n",
        "countSpanish = 0 #counts the number of times we got 21 with the Spanish deck\n",
        "countPoker = 0 #counts the number of times we got 21 with the Poker deck\n",
        "countCardsSpanish = [0,0,0,0,0,0,0,0,0,0,0,0]\n",
        "countCardsPoker = [0,0,0,0,0,0,0,0,0,0,0,0]\n",
        "\n",
        "expectedProfitSpanish=0\n",
        "expectedProfitPoker=0\n",
        "for k in range(0,n):\n",
        "  for i in range(0,m):\n",
        "    for j in range(0,q):\n",
        "        resultSpanish = sum21(gamesSpanish[i][0],countCardsSpanish,gamesSpanish[i][1])\n",
        "        resultPoker = sum21(gamesPoker[i][0],countCardsPoker,gamesPoker[i][1])\n",
        "        countSpanish += resultSpanish\n",
        "        countPoker += resultPoker\n",
        "        gamesSpanishProfit[i] += (2*resultSpanish -1)*gamesSpanish[i][2]\n",
        "        gamesPokerProfit[i] += (2*resultPoker - 1)*gamesPoker[i][2]\n",
        "    gamesSpanishProfit[i] = gamesSpanishProfit[i]/q\n",
        "    gamesPokerProfit[i] = gamesPokerProfit[i]/q\n",
        "  expectedProfitSpanish+= sum(gamesSpanishProfit)\n",
        "  expectedProfitPoker+= sum(gamesPokerProfit)\n",
        "  gamesSpanishProfit=gamesSpanishProfitReset[:]\n",
        "  gamesPokerProfit=gamesPokerProfitReset[:]\n",
        "\n",
        "expectedProfitSpanish = expectedProfitSpanish/n\n",
        "expectedProfitPoker = expectedProfitPoker/n\n",
        "\n",
        "probSpanish = countSpanish / (m*n*q)\n",
        "probPoker = countPoker / (m*n*q)\n",
        "\n",
        "# 600 is the total of games he plays on a weekend = 3 days * 10 hours per day * 60 minutes per hour / 3 minutes per game\n",
        "# 109 is the estimated amount of money he spents per game 0.1*1000 + 0.9*10=109\n",
        "# when he is in the hot Deck case, it's expected that he obtains (2*0.5333 - 1)*1000 per game\n",
        "# when he is in the cold Deck case, it's expected that he obtains  for spanish Deck, (2*0.1752 - 1)*10, and for poker Deck (2*0.1441 - 1)*10\n",
        "estimated_won_amount_spanish = ((2*probHotDeckSpanish - 1)*betHot*hotProbability + (2*probColdDeckSpanish - 1)*betCold*(1-hotProbability))*m\n",
        "estimated_won_amount_poker = ((2*probHotDeckPoker - 1)*betHot*hotProbability + (2*probColdDeckPoker - 1)*betCold*(1-hotProbability))*m\n",
        "\n",
        "print(\"the theoretical estimated amount of money that Ben wins or losses per game with a Spanish Deck is \",estimated_won_amount_spanish,\".\")\n",
        "print(\"the experimental estimated amount of money that Ben wins or losses per game with a Spanish Deck is \",expectedProfitSpanish,\".\")\n",
        "\n",
        "print(\"the theoretical estimated amount of money that Ben wins or losses per game with a Poker Deck is \",estimated_won_amount_poker,\".\")\n",
        "print(\"the experimental estimated amount of money that Ben wins or losses per game with a Poker Deck is \",expectedProfitPoker,\".\")\n",
        "\n",
        "print(\"The experimental probability of getting a 21 with the above conditions from Spanish deck is \"+ str(probSpanish)+\".\")\n",
        "fig1 = plt.figure()\n",
        "ax1 = fig1.add_axes([0,0,1,1])\n",
        "ax1.bar(range(0,12),countCardsSpanish)\n",
        "plt.show()\n",
        "print(\"The experimental probability of getting a 21 with the above conditions from Poker deck is \"+ str(probPoker)+\".\")\n",
        "fig2 = plt.figure()\n",
        "ax2 = fig2.add_axes([0,0,1,1])\n",
        "ax2.bar(range(0,12),countCardsPoker)\n",
        "plt.show()"
      ],
      "execution_count": null,
      "outputs": [
        {
          "output_type": "stream",
          "text": [
            "Number of hot decks (spanish, poker): 65 55\n",
            "the theoretical estimated amount of money that Ben wins or losses per game with a Spanish Deck is  200.06159999999403 .\n",
            "the experimental estimated amount of money that Ben wins or losses per game with a Spanish Deck is  674.99 .\n",
            "the theoretical estimated amount of money that Ben wins or losses per game with a Poker Deck is  97.20239999999443 .\n",
            "the experimental estimated amount of money that Ben wins or losses per game with a Poker Deck is  -141.88 .\n",
            "The experimental probability of getting a 21 with the above conditions from Spanish deck is 0.19123616666666668.\n"
          ],
          "name": "stdout"
        },
        {
          "output_type": "display_data",
          "data": {
            "image/png": "[encoded data removed]",
            "text/plain": [
              "<Figure size 432x288 with 1 Axes>"
            ]
          },
          "metadata": {
            "tags": [],
            "needs_background": "light"
          }
        },
        {
          "output_type": "stream",
          "text": [
            "The experimental probability of getting a 21 with the above conditions from Poker deck is 0.17634316666666666.\n"
          ],
          "name": "stdout"
        },
        {
          "output_type": "display_data",
          "data": {
            "image/png": "[encoded data removed]",
            "text/plain": [
              "<Figure size 432x288 with 1 Axes>"
            ]
          },
          "metadata": {
            "tags": [],
            "needs_background": "light"
          }
        }
      ]
    },
    {
      "cell_type": "markdown",
      "metadata": {
        "id": "kk2k5SVWQMhX"
      },
      "source": [
        "Now, let's run a simplified code, where we don't simulate again the games, but use the information obtained in previous points."
      ]
    },
    {
      "cell_type": "code",
      "metadata": {
        "id": "1q7PnKZIQK9h",
        "outputId": "5d9da771-4cf3-45b2-d8e8-f9a20002e08f",
        "colab": {
          "base_uri": "https://localhost:8080/",
          "height": 102
        }
      },
      "source": [
        "n=10000 #number of experiments\n",
        "m=600 #number of games per weekend\n",
        "\n",
        "betHot=1000\n",
        "betCold=10\n",
        "hotProbability=0.1 #Change it to 0.1 if you want to check the original problem\n",
        "\n",
        "spanishHotDeck =([1,2,3,1,2,3,1,2,1,2],19,betHot,probHotDeckSpanish)\n",
        "spanishColdDeck = ([1,2,3,4,5,6,7,8,9,10,10,10,1,2,3,4,5,6,7,8,9,10,10,10,1,2,3,4,5,6,7,8,9,10,10,10,1,2,3,4,5,6,7,8,9,10,10,10],0,betCold,probColdDeckSpanish)\n",
        "pokerHotDeck =([1,2,3,1,2,3,1,2,1,2],19,betHot,probHotDeckPoker)\n",
        "pokerColdDeck =([1,2,3,4,5,6,7,8,9,10,10,10,10,1,2,3,4,5,6,7,8,9,10,10,10,10,1,2,3,4,5,6,7,8,9,10,10,10,10,1,2,3,4,5,6,7,8,9,10,10,10,10],0,betCold,probColdDeckPoker)\n",
        "\n",
        "spanishDecks=[spanishHotDeck, spanishColdDeck]\n",
        "pokerDecks=[pokerHotDeck, pokerColdDeck]\n",
        "\n",
        "#fix randomly m games, \n",
        "\"\"\"gamesSpanish=[]\n",
        "gamesPoker=[]\n",
        "gamesSpanishProfit=[]\n",
        "gamesPokerProfit=[]\n",
        "for i in range(0,m):\n",
        "  gamesSpanish.append(r.choices(spanishDecks,weights=(hotProbability,1-hotProbability),k=1)[0])\n",
        "  gamesPoker.append(r.choices(pokerDecks,weights=(hotProbability,1-hotProbability),k=1)[0])\n",
        "  gamesSpanishProfit.append(0)\n",
        "  gamesPokerProfit.append(0)\n",
        "gamesSpanishProfitReset=gamesSpanishProfit[:]\n",
        "gamesPokerProfitReset=gamesPokerProfit[:]\"\"\"\n",
        "\n",
        "#How many hot decks we obtained\n",
        "print(\"Number of hot decks (spanish, poker):\",gamesSpanish.count(spanishHotDeck), gamesPoker.count(pokerHotDeck))\n",
        "\n",
        "countSpanish = 0 #counts the number of times we got 21 with the Spanish deck\n",
        "countPoker = 0 #counts the number of times we got 21 with the Poker deck\n",
        "countCardsSpanish = [0,0,0,0,0,0,0,0,0,0,0,0]\n",
        "countCardsPoker = [0,0,0,0,0,0,0,0,0,0,0,0]\n",
        "\n",
        "expectedProfitSpanish=0\n",
        "expectedProfitPoker=0\n",
        "for k in range(0,n):\n",
        "  for i in range(0,m):\n",
        "    gamesSpanishProfit[i] = (2*gamesSpanish[i][3]-1)*gamesSpanish[i][2]\n",
        "    gamesPokerProfit[i] = (2*gamesPoker[i][3]-1)*gamesPoker[i][2]\n",
        "  expectedProfitSpanish+= sum(gamesSpanishProfit)\n",
        "  expectedProfitPoker+= sum(gamesPokerProfit)\n",
        "  gamesSpanishProfit=gamesSpanishProfitReset[:]\n",
        "  gamesPokerProfit=gamesPokerProfitReset[:]\n",
        "\n",
        "expectedProfitSpanish = expectedProfitSpanish/n\n",
        "expectedProfitPoker = expectedProfitPoker/n\n",
        "\n",
        "# 600 is the total of games he plays on a weekend = 3 days * 10 hours per day * 60 minutes per hour / 3 minutes per game\n",
        "# when he is in the hot Deck case, it's expected that he obtains (2*0.5333 - 1)*1000 per game\n",
        "# when he is in the cold Deck case, it's expected that he obtains  for spanish Deck, (2*0.1752 - 1)*10, and for poker Deck (2*0.1441 - 1)*10\n",
        "estimated_won_amount_spanish = ((2*probHotDeckSpanish - 1)*betHot*hotProbability + (2*probColdDeckSpanish - 1)*betCold*(1-hotProbability))*m\n",
        "estimated_won_amount_poker = ((2*probHotDeckPoker - 1)*betHot*hotProbability + (2*probColdDeckPoker - 1)*betCold*(1-hotProbability))*m\n",
        "\n",
        "print(\"the theoretical estimated amount of money that Ben wins or losses per game with a Spanish Deck is \",estimated_won_amount_spanish,\".\")\n",
        "print(\"the experimental estimated amount of money that Ben wins or losses per game with a Spanish Deck is \",expectedProfitSpanish,\".\")\n",
        "\n",
        "print(\"the theoretical estimated amount of money that Ben wins or losses per game with a Poker Deck is \",estimated_won_amount_poker,\".\")\n",
        "print(\"the experimental estimated amount of money that Ben wins or losses per game with a Poker Deck is \",expectedProfitPoker,\".\")"
      ],
      "execution_count": null,
      "outputs": [
        {
          "output_type": "stream",
          "text": [
            "Number of hot decks (spanish, poker): 65 55\n",
            "the theoretical estimated amount of money that Ben wins or losses per game with a Spanish Deck is  200.06159999999403 .\n",
            "the experimental estimated amount of money that Ben wins or losses per game with a Spanish Deck is  567.1814000000529 .\n",
            "the theoretical estimated amount of money that Ben wins or losses per game with a Poker Deck is  97.20239999999443 .\n",
            "the experimental estimated amount of money that Ben wins or losses per game with a Poker Deck is  -270.8697999999881 .\n"
          ],
          "name": "stdout"
        }
      ]
    },
    {
      "cell_type": "markdown",
      "metadata": {
        "id": "m9W6glXc43Uv"
      },
      "source": [
        "We observe that the experimental estimated amount of money depends strongly of the number of hot decks in the games (the weigth of hot decks(1000) is so big compared with the weight of cold decks (10)), and the expected value is too close to 0, then it is so sensitive. This is a problem because in our case, then number of games is 600 and when we simulate if we obtain a number of hot decks is far from 60, the player will obtain much more or much less than the amount we expected. \n",
        "\n",
        "A way to check that the algorithm works correctly is to change the probability of hot decks to, for example, 0.2. In this way, we obtain a expected value far from 0 and our simulations work well. Other way is to change the number of games per weekend to a bigger number, for example, 10000. Ih this case we obtain more precise values in the simulation.\n",
        "\n",
        "For example, we can check this with the complete algorithm, choosing n=100 and m=600 and a hot deck probability of 0.2.\n"
      ]
    }
  ]
}